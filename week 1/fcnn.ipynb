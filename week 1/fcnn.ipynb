{
 "cells": [
  {
   "cell_type": "code",
   "execution_count": 1,
   "id": "8dcd1c7c",
   "metadata": {},
   "outputs": [],
   "source": [
    "from torchvision import transforms, datasets\n",
    "from torch.utils.data import DataLoader\n",
    "import torch\n",
    "import torch.nn as nn\n"
   ]
  },
  {
   "cell_type": "code",
   "execution_count": 16,
   "id": "20e46c60",
   "metadata": {},
   "outputs": [],
   "source": [
    "class FCNN(nn.Module):\n",
    "    def __init__(self):\n",
    "        super().__init__()\n",
    "        self.moduledict = nn.ModuleDict({\n",
    "            'fc1' : nn.Linear(784, 128), # All img in MINST are 28x28, 28*28=784\n",
    "            'fc2' : nn.Linear(128, 128),\n",
    "            'relu': nn.ReLU(),\n",
    "            'out' : nn.Linear(128, 10)\n",
    "        })\n",
    "    def forward(self, x):\n",
    "        # x = x.view(-1, 784)\n",
    "        x = x.view(x.size(0), -1)\n",
    "        x = self.moduledict.fc1(x)\n",
    "        x = self.moduledict.relu(x)\n",
    "        x = self.moduledict.fc2(x)\n",
    "        x = self.moduledict.relu(x)\n",
    "        return self.moduledict.out(x)"
   ]
  },
  {
   "cell_type": "code",
   "execution_count": null,
   "id": "365bad49",
   "metadata": {},
   "outputs": [],
   "source": []
  },
  {
   "cell_type": "code",
   "execution_count": null,
   "id": "edeb5c8a",
   "metadata": {},
   "outputs": [],
   "source": [
    "transform = transforms.Compose([\n",
    "    transforms.ToTensor(),\n",
    "])"
   ]
  },
  {
   "cell_type": "code",
   "execution_count": 11,
   "id": "406a667f",
   "metadata": {},
   "outputs": [],
   "source": [
    "train_set = datasets.MNIST('dataset/mnist/', train=True, transform=transform)\n",
    "train_loader = DataLoader(train_set, batch_size=64, shuffle=True)\n",
    "test_set = datasets.MNIST('dataset/mnist/', train=False, transform=transform)\n",
    "test_loader = DataLoader(test_set, batch_size=64, shuffle=False)"
   ]
  },
  {
   "cell_type": "code",
   "execution_count": null,
   "id": "82072bf3",
   "metadata": {},
   "outputs": [
    {
     "name": "stderr",
     "output_type": "stream",
     "text": [
      "100%|██████████| 938/938 [00:01<00:00, 588.49it/s]\n",
      "100%|██████████| 938/938 [00:01<00:00, 629.92it/s]\n",
      "100%|██████████| 938/938 [00:01<00:00, 642.57it/s]\n",
      "100%|██████████| 938/938 [00:01<00:00, 583.99it/s]\n",
      "100%|██████████| 938/938 [00:01<00:00, 589.06it/s]\n"
     ]
    }
   ],
   "source": [
    "from numpy import shape\n",
    "from tqdm import tqdm\n",
    "\n",
    "\n",
    "model = FCNN()\n",
    "optimizer = torch.optim.Adam(model.parameters(), lr=0.001)\n",
    "criterion = nn.CrossEntropyLoss()\n",
    "epoch_num = 5\n",
    "\n",
    "model.train()\n",
    "\n",
    "for epoch in range(epoch_num):\n",
    "    running_loss = 0.0\n",
    "    for images, labels in tqdm(train_loader, desc=f'Epoch {epoch+1}/{epoch_num}'):\n",
    "        optimizer.zero_grad()\n",
    "        output = model(images)\n",
    "        loss = criterion(output, labels)\n",
    "        loss.backward()\n",
    "        optimizer.step()"
   ]
  },
  {
   "cell_type": "code",
   "execution_count": 13,
   "id": "907168d0",
   "metadata": {},
   "outputs": [
    {
     "name": "stderr",
     "output_type": "stream",
     "text": [
      "100%|██████████| 157/157 [00:00<00:00, 670.93it/s]"
     ]
    },
    {
     "name": "stdout",
     "output_type": "stream",
     "text": [
      "Accuracy: 97.78%\n"
     ]
    },
    {
     "name": "stderr",
     "output_type": "stream",
     "text": [
      "\n"
     ]
    }
   ],
   "source": [
    "model.eval()\n",
    "total_correct = 0\n",
    "total = 0\n",
    "with torch.no_grad():\n",
    "    for images, labels in tqdm(test_loader):\n",
    "        output = model(images)\n",
    "        _, predicted_class = torch.max(output.data, 1)\n",
    "\n",
    "        total += labels.size(0)\n",
    "        total_correct += (predicted_class == labels).sum().item()\n",
    "print(f'Accuracy: {100 * total_correct / total:.2f}%')"
   ]
  },
  {
   "cell_type": "code",
   "execution_count": null,
   "id": "002b31f3",
   "metadata": {},
   "outputs": [],
   "source": []
  }
 ],
 "metadata": {
  "kernelspec": {
   "display_name": ".venv",
   "language": "python",
   "name": "python3"
  },
  "language_info": {
   "codemirror_mode": {
    "name": "ipython",
    "version": 3
   },
   "file_extension": ".py",
   "mimetype": "text/x-python",
   "name": "python",
   "nbconvert_exporter": "python",
   "pygments_lexer": "ipython3",
   "version": "3.13.3"
  }
 },
 "nbformat": 4,
 "nbformat_minor": 5
}
